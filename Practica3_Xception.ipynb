{
  "nbformat": 4,
  "nbformat_minor": 0,
  "metadata": {
    "colab": {
      "name": "Practica3_Xception.ipynb",
      "provenance": [],
      "include_colab_link": true
    },
    "kernelspec": {
      "name": "python3",
      "display_name": "Python 3"
    },
    "accelerator": "GPU"
  },
  "cells": [
    {
      "cell_type": "markdown",
      "metadata": {
        "id": "view-in-github",
        "colab_type": "text"
      },
      "source": [
        "<a href=\"https://colab.research.google.com/github/IA-UCSP-2020/Inteligencia-Artificial-/blob/master/Practica3_Xception.ipynb\" target=\"_parent\"><img src=\"https://colab.research.google.com/assets/colab-badge.svg\" alt=\"Open In Colab\"/></a>"
      ]
    },
    {
      "cell_type": "code",
      "metadata": {
        "id": "svXbRsGjrxXN",
        "colab_type": "code",
        "colab": {}
      },
      "source": [
        "import os\n",
        "\n",
        "from tensorflow.keras import layers\n",
        "from tensorflow.keras import Model\n",
        "from tensorflow.keras.layers import InputLayer"
      ],
      "execution_count": null,
      "outputs": []
    },
    {
      "cell_type": "code",
      "metadata": {
        "id": "BQFt_zs7bGl-",
        "colab_type": "code",
        "colab": {
          "base_uri": "https://localhost:8080/",
          "height": 202
        },
        "outputId": "8cd8d606-ee71-401f-e3a4-13adf128e245"
      },
      "source": [
        "!wget --no-check-certificate \\\n",
        "    https://storage.googleapis.com/tensorflow/keras-applications/xception/xception_weights_tf_dim_ordering_tf_kernels_notop.h5\\\n",
        "    -O /tmp/xception_notop.h5\n"
      ],
      "execution_count": null,
      "outputs": [
        {
          "output_type": "stream",
          "text": [
            "--2020-07-13 00:27:34--  https://storage.googleapis.com/tensorflow/keras-applications/xception/xception_weights_tf_dim_ordering_tf_kernels_notop.h5\n",
            "Resolving storage.googleapis.com (storage.googleapis.com)... 74.125.24.128, 172.217.194.128, 2404:6800:4003:c04::80\n",
            "Connecting to storage.googleapis.com (storage.googleapis.com)|74.125.24.128|:443... connected.\n",
            "HTTP request sent, awaiting response... 200 OK\n",
            "Length: 83683744 (80M) [application/octet-stream]\n",
            "Saving to: ‘/tmp/xception_notop.h5’\n",
            "\n",
            "/tmp/xception_notop 100%[===================>]  79.81M   127MB/s    in 0.6s    \n",
            "\n",
            "2020-07-13 00:27:35 (127 MB/s) - ‘/tmp/xception_notop.h5’ saved [83683744/83683744]\n",
            "\n"
          ],
          "name": "stdout"
        }
      ]
    },
    {
      "cell_type": "code",
      "metadata": {
        "id": "Dc4zpUHycIf6",
        "colab_type": "code",
        "colab": {}
      },
      "source": [
        "from tensorflow.keras.applications.xception import Xception\n",
        "\n",
        "local_weights_file = '/tmp/xception_notop.h5'\n",
        "pre_trained_model = Xception(\n",
        "    input_shape=(150, 150, 3), include_top=False, weights=None)\n",
        "pre_trained_model.load_weights(local_weights_file)"
      ],
      "execution_count": null,
      "outputs": []
    },
    {
      "cell_type": "code",
      "metadata": {
        "id": "JUq_KYI8kpRx",
        "colab_type": "code",
        "colab": {}
      },
      "source": [
        "for layer in pre_trained_model.layers:\n",
        "  layer.trainable = False"
      ],
      "execution_count": null,
      "outputs": []
    },
    {
      "cell_type": "code",
      "metadata": {
        "id": "1zwQTkYJk1bq",
        "colab_type": "code",
        "colab": {
          "base_uri": "https://localhost:8080/",
          "height": 34
        },
        "outputId": "fa15e20e-bfa0-4be8-f3be-890e485509d5"
      },
      "source": [
        "last_layer = pre_trained_model.get_layer('layer',120)\n",
        "print('last layer output shape:', last_layer.output_shape)\n",
        "last_output = last_layer.output"
      ],
      "execution_count": null,
      "outputs": [
        {
          "output_type": "stream",
          "text": [
            "last layer output shape: (None, 9, 9, 1024)\n"
          ],
          "name": "stdout"
        }
      ]
    },
    {
      "cell_type": "code",
      "metadata": {
        "id": "G4yWMpx8mL3v",
        "colab_type": "code",
        "colab": {}
      },
      "source": [
        "from tensorflow.keras.optimizers import RMSprop\n",
        "\n",
        "# Flatten the output layer to 1 dimension\n",
        "x = layers.Flatten()(last_output)\n",
        "# Add a fully connected layer with 1,024 hidden units and ReLU activation\n",
        "x = layers.Dense(1024, activation='relu')(x)\n",
        "# Add a dropout rate of 0.2\n",
        "x = layers.Dropout(0.2)(x)\n",
        "# Add a final sigmoid layer for classification\n",
        "x = layers.Dense(1, activation='sigmoid')(x)\n",
        "\n",
        "# Configure and compile the model\n",
        "model = Model(pre_trained_model.input, x)\n",
        "model.compile(loss='binary_crossentropy',\n",
        "              optimizer=RMSprop(lr=0.0001),\n",
        "              metrics=['acc'])"
      ],
      "execution_count": null,
      "outputs": []
    },
    {
      "cell_type": "code",
      "metadata": {
        "id": "xR1GSJqqrKba",
        "colab_type": "code",
        "colab": {
          "base_uri": "https://localhost:8080/",
          "height": 202
        },
        "outputId": "6e671a67-149d-4d08-e5e8-a7280161c33b"
      },
      "source": [
        "!wget --no-check-certificate \\\n",
        "   https://storage.googleapis.com/mledu-datasets/cats_and_dogs_filtered.zip -O \\\n",
        "   /tmp/cats_and_dogs_filtered.zip"
      ],
      "execution_count": null,
      "outputs": [
        {
          "output_type": "stream",
          "text": [
            "--2020-07-13 00:56:51--  https://storage.googleapis.com/mledu-datasets/cats_and_dogs_filtered.zip\n",
            "Resolving storage.googleapis.com (storage.googleapis.com)... 74.125.24.128, 172.217.194.128, 2404:6800:4003:c03::80, ...\n",
            "Connecting to storage.googleapis.com (storage.googleapis.com)|74.125.24.128|:443... connected.\n",
            "HTTP request sent, awaiting response... 200 OK\n",
            "Length: 68606236 (65M) [application/zip]\n",
            "Saving to: ‘/tmp/cats_and_dogs_filtered.zip’\n",
            "\n",
            "/tmp/cats_and_dogs_ 100%[===================>]  65.43M  23.6MB/s    in 2.8s    \n",
            "\n",
            "2020-07-13 00:56:55 (23.6 MB/s) - ‘/tmp/cats_and_dogs_filtered.zip’ saved [68606236/68606236]\n",
            "\n"
          ],
          "name": "stdout"
        }
      ]
    },
    {
      "cell_type": "code",
      "metadata": {
        "id": "o54BPZm9rP3e",
        "colab_type": "code",
        "colab": {
          "base_uri": "https://localhost:8080/",
          "height": 50
        },
        "outputId": "fdc98f76-bde0-4ee7-93d5-fa7b56d2cbe2"
      },
      "source": [
        "import os\n",
        "import zipfile\n",
        "\n",
        "from tensorflow.keras.preprocessing.image import ImageDataGenerator\n",
        "\n",
        "local_zip = '/tmp/cats_and_dogs_filtered.zip'\n",
        "zip_ref = zipfile.ZipFile(local_zip, 'r')\n",
        "zip_ref.extractall('/tmp')\n",
        "zip_ref.close()\n",
        "\n",
        "# Define our example directories and files\n",
        "base_dir = '/tmp/cats_and_dogs_filtered'\n",
        "train_dir = os.path.join(base_dir, 'train')\n",
        "validation_dir = os.path.join(base_dir, 'validation')\n",
        "\n",
        "# Directory with our training cat pictures\n",
        "train_cats_dir = os.path.join(train_dir, 'cats')\n",
        "\n",
        "# Directory with our training dog pictures\n",
        "train_dogs_dir = os.path.join(train_dir, 'dogs')\n",
        "\n",
        "# Directory with our validation cat pictures\n",
        "validation_cats_dir = os.path.join(validation_dir, 'cats')\n",
        "\n",
        "# Directory with our validation dog pictures\n",
        "validation_dogs_dir = os.path.join(validation_dir, 'dogs')\n",
        "\n",
        "train_cat_fnames = os.listdir(train_cats_dir)\n",
        "train_dog_fnames = os.listdir(train_dogs_dir)\n",
        "\n",
        "# Add our data-augmentation parameters to ImageDataGenerator\n",
        "train_datagen = ImageDataGenerator(\n",
        "    rescale=1./255,\n",
        "    rotation_range=40,\n",
        "    width_shift_range=0.2,\n",
        "    height_shift_range=0.2,\n",
        "    shear_range=0.2,\n",
        "    zoom_range=0.2,\n",
        "    horizontal_flip=True)\n",
        "\n",
        "# Note that the validation data should not be augmented!\n",
        "val_datagen = ImageDataGenerator(rescale=1./255)\n",
        "\n",
        "train_generator = train_datagen.flow_from_directory(\n",
        "        train_dir, # This is the source directory for training images\n",
        "        target_size=(150, 150),  # All images will be resized to 150x150\n",
        "        batch_size=20,\n",
        "        # Since we use binary_crossentropy loss, we need binary labels\n",
        "        class_mode='binary')\n",
        "\n",
        "# Flow validation images in batches of 20 using val_datagen generator\n",
        "validation_generator = val_datagen.flow_from_directory(\n",
        "        validation_dir,\n",
        "        target_size=(150, 150),\n",
        "        batch_size=20,\n",
        "        class_mode='binary')"
      ],
      "execution_count": null,
      "outputs": [
        {
          "output_type": "stream",
          "text": [
            "Found 2000 images belonging to 2 classes.\n",
            "Found 1000 images belonging to 2 classes.\n"
          ],
          "name": "stdout"
        }
      ]
    },
    {
      "cell_type": "code",
      "metadata": {
        "id": "fBuQQwEaro9b",
        "colab_type": "code",
        "colab": {
          "base_uri": "https://localhost:8080/",
          "height": 134
        },
        "outputId": "9cfa0912-29da-46c0-f91a-f5153355d5b9"
      },
      "source": [
        "history = model.fit_generator(\n",
        "      train_generator,\n",
        "      steps_per_epoch=100,\n",
        "      epochs=2,\n",
        "      validation_data=validation_generator,\n",
        "      validation_steps=50,\n",
        "      verbose=2)"
      ],
      "execution_count": null,
      "outputs": [
        {
          "output_type": "stream",
          "text": [
            "WARNING:tensorflow:From <ipython-input-22-223274cfaaff>:7: Model.fit_generator (from tensorflow.python.keras.engine.training) is deprecated and will be removed in a future version.\n",
            "Instructions for updating:\n",
            "Please use Model.fit, which supports generators.\n",
            "Epoch 1/2\n",
            "100/100 - 21s - loss: 1.0442 - acc: 0.8350 - val_loss: 0.2313 - val_acc: 0.9330\n",
            "Epoch 2/2\n",
            "100/100 - 20s - loss: 0.3567 - acc: 0.8950 - val_loss: 0.1041 - val_acc: 0.9570\n"
          ],
          "name": "stdout"
        }
      ]
    },
    {
      "cell_type": "code",
      "metadata": {
        "id": "uGDd8y79yHgC",
        "colab_type": "code",
        "colab": {}
      },
      "source": [
        "from tensorflow.keras.optimizers import SGD\n",
        "\n",
        "unfreeze = False\n",
        "\n",
        "# Unfreeze all models after \"mixed6\"\n",
        "for layer in pre_trained_model.layers:\n",
        "  if unfreeze:\n",
        "    layer.trainable = True\n",
        "  if layer.name == 'mixed6':\n",
        "    unfreeze = True\n",
        "\n",
        "# As an optimizer, here we will use SGD \n",
        "# with a very low learning rate (0.00001)\n",
        "model.compile(loss='binary_crossentropy',\n",
        "              optimizer=SGD(\n",
        "                  lr=0.00001, \n",
        "                  momentum=0.9),\n",
        "              metrics=['acc'])"
      ],
      "execution_count": null,
      "outputs": []
    },
    {
      "cell_type": "code",
      "metadata": {
        "id": "Eh-NVKQkyrLX",
        "colab_type": "code",
        "colab": {
          "base_uri": "https://localhost:8080/",
          "height": 1000
        },
        "outputId": "a55aeea5-c2a4-4c36-ab19-4a94a10db415"
      },
      "source": [
        "history = model.fit_generator(\n",
        "      train_generator,\n",
        "      steps_per_epoch=100,\n",
        "      epochs=50,\n",
        "      validation_data=validation_generator,\n",
        "      validation_steps=50,\n",
        "      verbose=2)"
      ],
      "execution_count": null,
      "outputs": [
        {
          "output_type": "stream",
          "text": [
            "Epoch 1/50\n",
            "100/100 - 21s - loss: 0.1954 - acc: 0.9250 - val_loss: 0.0994 - val_acc: 0.9590\n",
            "Epoch 2/50\n",
            "100/100 - 20s - loss: 0.1986 - acc: 0.9285 - val_loss: 0.0974 - val_acc: 0.9600\n",
            "Epoch 3/50\n",
            "100/100 - 20s - loss: 0.2011 - acc: 0.9235 - val_loss: 0.0962 - val_acc: 0.9600\n",
            "Epoch 4/50\n",
            "100/100 - 20s - loss: 0.1859 - acc: 0.9340 - val_loss: 0.0966 - val_acc: 0.9600\n",
            "Epoch 5/50\n",
            "100/100 - 20s - loss: 0.2046 - acc: 0.9230 - val_loss: 0.0927 - val_acc: 0.9610\n",
            "Epoch 6/50\n",
            "100/100 - 20s - loss: 0.1710 - acc: 0.9340 - val_loss: 0.0906 - val_acc: 0.9620\n",
            "Epoch 7/50\n",
            "100/100 - 20s - loss: 0.2043 - acc: 0.9230 - val_loss: 0.0918 - val_acc: 0.9630\n",
            "Epoch 8/50\n",
            "100/100 - 19s - loss: 0.1797 - acc: 0.9345 - val_loss: 0.0903 - val_acc: 0.9620\n",
            "Epoch 9/50\n",
            "100/100 - 19s - loss: 0.1821 - acc: 0.9315 - val_loss: 0.0883 - val_acc: 0.9620\n",
            "Epoch 10/50\n",
            "100/100 - 20s - loss: 0.1753 - acc: 0.9335 - val_loss: 0.0896 - val_acc: 0.9620\n",
            "Epoch 11/50\n",
            "100/100 - 20s - loss: 0.1683 - acc: 0.9310 - val_loss: 0.0890 - val_acc: 0.9620\n",
            "Epoch 12/50\n",
            "100/100 - 19s - loss: 0.1738 - acc: 0.9360 - val_loss: 0.0891 - val_acc: 0.9630\n",
            "Epoch 13/50\n",
            "100/100 - 19s - loss: 0.1708 - acc: 0.9330 - val_loss: 0.0889 - val_acc: 0.9630\n",
            "Epoch 14/50\n",
            "100/100 - 19s - loss: 0.1731 - acc: 0.9300 - val_loss: 0.0902 - val_acc: 0.9640\n",
            "Epoch 15/50\n",
            "100/100 - 19s - loss: 0.1796 - acc: 0.9325 - val_loss: 0.0875 - val_acc: 0.9630\n",
            "Epoch 16/50\n",
            "100/100 - 19s - loss: 0.1689 - acc: 0.9355 - val_loss: 0.0879 - val_acc: 0.9630\n",
            "Epoch 17/50\n",
            "100/100 - 20s - loss: 0.1477 - acc: 0.9380 - val_loss: 0.0886 - val_acc: 0.9640\n",
            "Epoch 18/50\n",
            "100/100 - 19s - loss: 0.1755 - acc: 0.9290 - val_loss: 0.0867 - val_acc: 0.9630\n",
            "Epoch 19/50\n",
            "100/100 - 19s - loss: 0.1599 - acc: 0.9330 - val_loss: 0.0864 - val_acc: 0.9630\n",
            "Epoch 20/50\n",
            "100/100 - 19s - loss: 0.1701 - acc: 0.9270 - val_loss: 0.0874 - val_acc: 0.9640\n",
            "Epoch 21/50\n",
            "100/100 - 19s - loss: 0.1792 - acc: 0.9335 - val_loss: 0.0856 - val_acc: 0.9630\n",
            "Epoch 22/50\n",
            "100/100 - 19s - loss: 0.1576 - acc: 0.9365 - val_loss: 0.0858 - val_acc: 0.9640\n",
            "Epoch 23/50\n",
            "100/100 - 20s - loss: 0.1447 - acc: 0.9410 - val_loss: 0.0863 - val_acc: 0.9640\n",
            "Epoch 24/50\n",
            "100/100 - 19s - loss: 0.1539 - acc: 0.9365 - val_loss: 0.0842 - val_acc: 0.9640\n",
            "Epoch 25/50\n",
            "100/100 - 20s - loss: 0.1666 - acc: 0.9365 - val_loss: 0.0845 - val_acc: 0.9650\n",
            "Epoch 26/50\n",
            "100/100 - 20s - loss: 0.1529 - acc: 0.9305 - val_loss: 0.0841 - val_acc: 0.9650\n",
            "Epoch 27/50\n",
            "100/100 - 20s - loss: 0.1541 - acc: 0.9390 - val_loss: 0.0850 - val_acc: 0.9650\n",
            "Epoch 28/50\n",
            "100/100 - 19s - loss: 0.1626 - acc: 0.9375 - val_loss: 0.0835 - val_acc: 0.9640\n",
            "Epoch 29/50\n",
            "100/100 - 19s - loss: 0.1652 - acc: 0.9315 - val_loss: 0.0854 - val_acc: 0.9660\n",
            "Epoch 30/50\n",
            "100/100 - 20s - loss: 0.1576 - acc: 0.9330 - val_loss: 0.0840 - val_acc: 0.9650\n",
            "Epoch 31/50\n",
            "100/100 - 20s - loss: 0.1631 - acc: 0.9355 - val_loss: 0.0853 - val_acc: 0.9660\n",
            "Epoch 32/50\n",
            "100/100 - 20s - loss: 0.1547 - acc: 0.9355 - val_loss: 0.0842 - val_acc: 0.9650\n",
            "Epoch 33/50\n",
            "100/100 - 20s - loss: 0.1464 - acc: 0.9430 - val_loss: 0.0834 - val_acc: 0.9650\n",
            "Epoch 34/50\n",
            "100/100 - 19s - loss: 0.1552 - acc: 0.9280 - val_loss: 0.0833 - val_acc: 0.9650\n",
            "Epoch 35/50\n",
            "100/100 - 20s - loss: 0.1689 - acc: 0.9340 - val_loss: 0.0853 - val_acc: 0.9660\n",
            "Epoch 36/50\n",
            "100/100 - 20s - loss: 0.1516 - acc: 0.9365 - val_loss: 0.0856 - val_acc: 0.9660\n",
            "Epoch 37/50\n",
            "100/100 - 20s - loss: 0.1529 - acc: 0.9370 - val_loss: 0.0838 - val_acc: 0.9660\n",
            "Epoch 38/50\n",
            "100/100 - 20s - loss: 0.1422 - acc: 0.9380 - val_loss: 0.0864 - val_acc: 0.9640\n",
            "Epoch 39/50\n",
            "100/100 - 20s - loss: 0.1500 - acc: 0.9415 - val_loss: 0.0834 - val_acc: 0.9660\n",
            "Epoch 40/50\n",
            "100/100 - 20s - loss: 0.1485 - acc: 0.9340 - val_loss: 0.0824 - val_acc: 0.9680\n",
            "Epoch 41/50\n",
            "100/100 - 20s - loss: 0.1412 - acc: 0.9440 - val_loss: 0.0840 - val_acc: 0.9660\n",
            "Epoch 42/50\n",
            "100/100 - 20s - loss: 0.1537 - acc: 0.9390 - val_loss: 0.0821 - val_acc: 0.9680\n",
            "Epoch 43/50\n",
            "100/100 - 20s - loss: 0.1577 - acc: 0.9265 - val_loss: 0.0827 - val_acc: 0.9660\n",
            "Epoch 44/50\n",
            "100/100 - 20s - loss: 0.1547 - acc: 0.9360 - val_loss: 0.0817 - val_acc: 0.9680\n",
            "Epoch 45/50\n",
            "100/100 - 20s - loss: 0.1481 - acc: 0.9415 - val_loss: 0.0810 - val_acc: 0.9670\n",
            "Epoch 46/50\n",
            "100/100 - 20s - loss: 0.1493 - acc: 0.9410 - val_loss: 0.0812 - val_acc: 0.9680\n",
            "Epoch 47/50\n",
            "100/100 - 20s - loss: 0.1494 - acc: 0.9305 - val_loss: 0.0802 - val_acc: 0.9680\n",
            "Epoch 48/50\n",
            "100/100 - 20s - loss: 0.1492 - acc: 0.9360 - val_loss: 0.0807 - val_acc: 0.9670\n",
            "Epoch 49/50\n",
            "100/100 - 20s - loss: 0.1394 - acc: 0.9430 - val_loss: 0.0809 - val_acc: 0.9680\n",
            "Epoch 50/50\n",
            "100/100 - 20s - loss: 0.1520 - acc: 0.9365 - val_loss: 0.0802 - val_acc: 0.9670\n"
          ],
          "name": "stdout"
        }
      ]
    },
    {
      "cell_type": "code",
      "metadata": {
        "id": "0vjWnEkm46K1",
        "colab_type": "code",
        "colab": {
          "base_uri": "https://localhost:8080/",
          "height": 562
        },
        "outputId": "dc6986d6-c835-4f31-ad03-7a71275e66f3"
      },
      "source": [
        "%matplotlib inline\n",
        "\n",
        "import matplotlib.pyplot as plt\n",
        "import matplotlib.image as mpimg\n",
        "\n",
        "# Retrieve a list of accuracy results on training and validation data\n",
        "# sets for each training epoch\n",
        "acc = history.history['acc']\n",
        "val_acc = history.history['val_acc']\n",
        "\n",
        "# Retrieve a list of list results on training and validation data\n",
        "# sets for each training epoch\n",
        "loss = history.history['loss']\n",
        "val_loss = history.history['val_loss']\n",
        "\n",
        "# Get number of epochs\n",
        "epochs = range(len(acc))\n",
        "\n",
        "# Plot training and validation accuracy per epoch\n",
        "plt.plot(epochs, acc)\n",
        "plt.plot(epochs, val_acc)\n",
        "plt.title('Training and validation accuracy')\n",
        "\n",
        "plt.figure()\n",
        "\n",
        "# Plot training and validation loss per epoch\n",
        "plt.plot(epochs, loss)\n",
        "plt.plot(epochs, val_loss)\n",
        "plt.title('Training and validation loss')"
      ],
      "execution_count": null,
      "outputs": [
        {
          "output_type": "execute_result",
          "data": {
            "text/plain": [
              "Text(0.5, 1.0, 'Training and validation loss')"
            ]
          },
          "metadata": {
            "tags": []
          },
          "execution_count": 27
        },
        {
          "output_type": "display_data",
          "data": {
            "image/png": "[encoded data removed]",
            "text/plain": [
              "<Figure size 432x288 with 1 Axes>"
            ]
          },
          "metadata": {
            "tags": [],
            "needs_background": "light"
          }
        },
        {
          "output_type": "display_data",
          "data": {
            "image/png": "[encoded data removed]",
            "text/plain": [
              "<Figure size 432x288 with 1 Axes>"
            ]
          },
          "metadata": {
            "tags": [],
            "needs_background": "light"
          }
        }
      ]
    },
    {
      "cell_type": "code",
      "metadata": {
        "id": "EkInWg195Up-",
        "colab_type": "code",
        "colab": {}
      },
      "source": [
        "import os, signal\n",
        "os.kill(os.getpid(), signal.SIGKILL)"
      ],
      "execution_count": null,
      "outputs": []
    }
  ]
}